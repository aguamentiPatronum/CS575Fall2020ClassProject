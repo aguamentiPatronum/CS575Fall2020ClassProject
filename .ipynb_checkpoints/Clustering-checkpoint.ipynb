{
 "cells": [
  {
   "cell_type": "code",
   "execution_count": 2,
   "metadata": {},
   "outputs": [],
   "source": [
    "import pandas as pd\n",
    "import numpy as np\n",
    "import pyarrow as pa\n",
    "import pyarrow.parquet as pq\n",
    "import seaborn as sns\n",
    "import matplotlib.pyplot as plt\n",
    "import numpy as np\n",
    "import os\n",
    "%matplotlib inline"
   ]
  },
  {
   "cell_type": "code",
   "execution_count": 7,
   "metadata": {},
   "outputs": [],
   "source": [
    "# Load up dfs and then stack them\n",
    "tempTopDir = os.path.abspath('/Volumes/Britt_SSD/Singularity/Eval_With_Locs_Slimmed')\n",
    "combo_df = pd.DataFrame()\n",
    "fear = os.path.join(tempTopDir, 'fearGhost_temp.parquet')\n",
    "normalOnly = os.path.join(tempTopDir, 'normalOnly_temp.parquet')\n",
    "normalPlus = os.path.join(tempTopDir, 'normalPlus_temp.parquet')\n",
    "powerPill = os.path.join(tempTopDir, 'powerPill_temp.parquet')\n",
    "standard = os.path.join(tempTopDir, 'standard_temp.parquet')"
   ]
  },
  {
   "cell_type": "code",
   "execution_count": 8,
   "metadata": {},
   "outputs": [],
   "source": [
    "fear_df = pd.read_parquet(fear)\n",
    "fear_df = fear_df.drop(columns=fear_df.columns[0])\n",
    "normalOnly_df = pd.read_parquet(normalOnly)\n",
    "normalOnly_df = normalOnly_df.drop(columns=normalOnly_df.columns[0])\n",
    "normalPlus_df = pd.read_parquet(normalPlus)\n",
    "normalPlus_df = normalPlus_df.drop(columns=normalPlus_df.columns[0])\n",
    "pp_df = pd.read_parquet(powerPill)\n",
    "pp_df = pp_df.drop(columns=pp_df.columns[0])\n",
    "std_df = pd.read_parquet(standard)\n",
    "std_df = std_df.drop(columns=std_df.columns[0])\n"
   ]
  },
  {
   "cell_type": "code",
   "execution_count": 9,
   "metadata": {},
   "outputs": [],
   "source": [
    "combo_df = pd.concat([fear_df,normalOnly_df,normalPlus_df,pp_df,std_df],ignore_index=True)"
   ]
  },
  {
   "cell_type": "code",
   "execution_count": 10,
   "metadata": {},
   "outputs": [],
   "source": [
    "df_list = [fear_df, normalOnly_df, normalPlus_df, pp_df, std_df]\n",
    "names = [\"Fear_Ghost\", \"Normal_Only\", \"Normal_Plus\", \"Power_Pill\", \"Standard\"]"
   ]
  },
  {
   "cell_type": "code",
   "execution_count": 11,
   "metadata": {},
   "outputs": [
    {
     "data": {
      "text/plain": [
       "0        3\n",
       "1        3\n",
       "2        3\n",
       "3        3\n",
       "4        3\n",
       "        ..\n",
       "49960    2\n",
       "49961    2\n",
       "49962    2\n",
       "49963    2\n",
       "49964    2\n",
       "Name: agentNum, Length: 49965, dtype: int8"
      ]
     },
     "execution_count": 11,
     "metadata": {},
     "output_type": "execute_result"
    }
   ],
   "source": [
    "combo_df[\"agentNum\"]= combo_df[\"agent\"].astype('category')\n",
    "combo_df[\"agentNum\"] = combo_df[\"agentNum\"].cat.codes\n",
    "combo_df[\"agentNum\"]"
   ]
  },
  {
   "cell_type": "code",
   "execution_count": 12,
   "metadata": {},
   "outputs": [],
   "source": [
    "# end of bacis setup"
   ]
  },
  {
   "cell_type": "code",
   "execution_count": 14,
   "metadata": {},
   "outputs": [],
   "source": [
    "table = pa.Table.from_pandas(combo_df)\n",
    "# Parquet with Brotli compression\n",
    "pq.write_table(table, 'combo_df.parquet', compression='BROTLI')"
   ]
  },
  {
   "cell_type": "code",
   "execution_count": null,
   "metadata": {},
   "outputs": [],
   "source": []
  }
 ],
 "metadata": {
  "kernelspec": {
   "display_name": "Python 3",
   "language": "python",
   "name": "python3"
  },
  "language_info": {
   "codemirror_mode": {
    "name": "ipython",
    "version": 3
   },
   "file_extension": ".py",
   "mimetype": "text/x-python",
   "name": "python",
   "nbconvert_exporter": "python",
   "pygments_lexer": "ipython3",
   "version": "3.7.6"
  }
 },
 "nbformat": 4,
 "nbformat_minor": 4
}
