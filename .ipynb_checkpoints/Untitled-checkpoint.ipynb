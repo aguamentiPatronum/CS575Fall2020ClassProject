{
 "cells": [
  {
   "cell_type": "code",
   "execution_count": 1,
   "metadata": {},
   "outputs": [],
   "source": [
    "import pandas as pd\n",
    "import numpy as np\n",
    "import pyarrow as pa\n",
    "import pyarrow.parquet as pq\n",
    "import seaborn as sns\n",
    "import matplotlib.pyplot as plt\n",
    "import numpy as np\n",
    "import os"
   ]
  },
  {
   "cell_type": "code",
   "execution_count": 2,
   "metadata": {},
   "outputs": [],
   "source": [
    "# Location of DFs\n",
    "tempTopDir = os.path.abspath('/Volumes/Britt_SSD/Singularity')"
   ]
  },
  {
   "cell_type": "code",
   "execution_count": 13,
   "metadata": {},
   "outputs": [],
   "source": [
    "evalsFile = os.path.join(tempTopDir, 'Eval_With_Locs_Slimmed/combo_df.parquet')\n",
    "# Make evals to df\n",
    "allEvalsDF = pd.read_parquet(evalsFile)"
   ]
  },
  {
   "cell_type": "code",
   "execution_count": 14,
   "metadata": {},
   "outputs": [],
   "source": [
    "allEvalsDF.rename(columns={\"to_orange_gohst\": \"to_orange_ghost\"}, inplace=True)"
   ]
  },
  {
   "cell_type": "code",
   "execution_count": 15,
   "metadata": {},
   "outputs": [
    {
     "data": {
      "text/plain": [
       "Index(['reward', 'episode_reward', 'epoch_reward', 'total_reward', 'lives',\n",
       "       'end_of_episode', 'end_of_epoch', 'episode', 'episode_step', 'epoch',\n",
       "       'epoch_step', 'state', 'mean_reward', 'to_pill_one', 'to_pill_two',\n",
       "       'to_pill_three', 'to_pill_four', 'to_red_ghost', 'to_pink_ghost',\n",
       "       'to_blue_ghost', 'to_orange_ghost', 'pacman_coord_x', 'pacman_coord_y',\n",
       "       'red_ghost_coord_x', 'red_ghost_coord_y', 'pink_ghost_coord_x',\n",
       "       'pink_ghost_coord_y', 'blue_ghost_coord_x', 'blue_ghost_coord_y',\n",
       "       'orange_ghost_coord_x', 'orange_ghost_coord_y', 'pacman_direction',\n",
       "       'red_ghost_direction', 'pink_ghost_direction', 'blue_ghost_direction',\n",
       "       'orange_ghost_direction', 'dark_blue_ghost1_coord_x',\n",
       "       'dark_blue_ghost1_coord_y', 'dark_blue_ghost2_coord_x',\n",
       "       'dark_blue_ghost2_coord_y', 'dark_blue_ghost3_coord_x',\n",
       "       'dark_blue_ghost3_coord_y', 'dark_blue_ghost4_coord_x',\n",
       "       'dark_blue_ghost4_coord_y', 'action 1 episode sum',\n",
       "       'action 1 total sum', 'action 2 episode sum', 'action 2 total sum',\n",
       "       'action 3 episode sum', 'action 3 total sum', 'action 4 episode sum',\n",
       "       'action 4 total sum', 'importance', 'epoch_score', 'key_state',\n",
       "       'context_state', 'keyNum', 'beforeLifeLoss', 'bigRewardNum', 'agent',\n",
       "       'to_pill_mean', 'to_top_pills_mean', 'to_bottom_pills_mean',\n",
       "       'to_ghosts_mean', 'to_db1', 'to_db2', 'to_db3', 'to_db4', 'agentNum'],\n",
       "      dtype='object')"
      ]
     },
     "execution_count": 15,
     "metadata": {},
     "output_type": "execute_result"
    }
   ],
   "source": [
    "allEvalsDF.columns"
   ]
  },
  {
   "cell_type": "code",
   "execution_count": 16,
   "metadata": {},
   "outputs": [],
   "source": [
    "allEvalsDF['diff_to_red'] = allEvalsDF.to_red_ghost - allEvalsDF.to_red_ghost.shift()\n",
    "allEvalsDF.at[0,'diff_to_red'] = 0"
   ]
  },
  {
   "cell_type": "code",
   "execution_count": 17,
   "metadata": {},
   "outputs": [],
   "source": [
    "allEvalsDF['diff_to_orange'] = allEvalsDF.to_orange_ghost - allEvalsDF.to_orange_ghost.shift()\n",
    "allEvalsDF.at[0,'diff_to_orange'] = 0\n"
   ]
  },
  {
   "cell_type": "code",
   "execution_count": 18,
   "metadata": {},
   "outputs": [],
   "source": [
    "allEvalsDF['diff_to_blue'] = allEvalsDF.to_blue_ghost - allEvalsDF.to_blue_ghost.shift()\n",
    "allEvalsDF.at[0,'diff_to_blue'] = 0"
   ]
  },
  {
   "cell_type": "code",
   "execution_count": 19,
   "metadata": {},
   "outputs": [],
   "source": [
    "allEvalsDF['diff_to_pink'] = allEvalsDF.to_pink_ghost - allEvalsDF.to_pink_ghost.shift()\n",
    "allEvalsDF.at[0,'diff_to_pink'] = 0"
   ]
  },
  {
   "cell_type": "code",
   "execution_count": 20,
   "metadata": {},
   "outputs": [],
   "source": [
    "allEvalsDF['diff_to_dbg1'] = allEvalsDF.to_db1 - allEvalsDF.to_db1.shift()\n",
    "allEvalsDF.at[0,'diff_to_dbg1'] = 0"
   ]
  },
  {
   "cell_type": "code",
   "execution_count": 21,
   "metadata": {},
   "outputs": [],
   "source": [
    "allEvalsDF['diff_to_dbg2'] = allEvalsDF.to_db2 - allEvalsDF.to_db2.shift()\n",
    "allEvalsDF.at[0,'diff_to_dbg2'] = 0"
   ]
  },
  {
   "cell_type": "code",
   "execution_count": 22,
   "metadata": {},
   "outputs": [],
   "source": [
    "allEvalsDF['diff_to_dbg3'] = allEvalsDF.to_db3 - allEvalsDF.to_db3.shift()\n",
    "allEvalsDF.at[0,'diff_to_dbg3'] = 0"
   ]
  },
  {
   "cell_type": "code",
   "execution_count": 23,
   "metadata": {},
   "outputs": [],
   "source": [
    "allEvalsDF['diff_to_dbg4'] = allEvalsDF.to_db4 - allEvalsDF.to_db4.shift()\n",
    "allEvalsDF.at[0,'diff_to_dbg4'] = 0"
   ]
  },
  {
   "cell_type": "code",
   "execution_count": 12,
   "metadata": {},
   "outputs": [
    {
     "data": {
      "text/plain": [
       "0        0.0\n",
       "1        2.0\n",
       "2        0.0\n",
       "3       -5.0\n",
       "4        0.0\n",
       "        ... \n",
       "49960    0.0\n",
       "49961    0.0\n",
       "49962    0.0\n",
       "49963    0.0\n",
       "49964    0.0\n",
       "Name: match, Length: 49965, dtype: float64"
      ]
     },
     "execution_count": 12,
     "metadata": {},
     "output_type": "execute_result"
    }
   ],
   "source": [
    "table = pa.Table.from_pandas(allEvalsDF)\n",
    "# Parquet with Brotli compression\n",
    "pq.write_table(table, to_parquet_file, compression='BROTLI')\n",
    "# And save to CSV for permanent storage\n",
    "df.to_csv(to_csv_file)"
   ]
  },
  {
   "cell_type": "code",
   "execution_count": null,
   "metadata": {},
   "outputs": [],
   "source": []
  }
 ],
 "metadata": {
  "kernelspec": {
   "display_name": "Python 3",
   "language": "python",
   "name": "python3"
  },
  "language_info": {
   "codemirror_mode": {
    "name": "ipython",
    "version": 3
   },
   "file_extension": ".py",
   "mimetype": "text/x-python",
   "name": "python",
   "nbconvert_exporter": "python",
   "pygments_lexer": "ipython3",
   "version": "3.6.10"
  }
 },
 "nbformat": 4,
 "nbformat_minor": 4
}
